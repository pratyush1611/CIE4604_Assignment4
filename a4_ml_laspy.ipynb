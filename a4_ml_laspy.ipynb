{
 "cells": [
  {
   "cell_type": "markdown",
   "metadata": {},
   "source": [
    "# Data exploration"
   ]
  },
  {
   "cell_type": "code",
   "execution_count": 30,
   "metadata": {},
   "outputs": [],
   "source": [
    "import laspy\n",
    "from scipy.spatial import cKDTree\n",
    "import numpy as np\n",
    "from sklearn.decomposition import PCA\n",
    "import matplotlib.pyplot as plt"
   ]
  },
  {
   "cell_type": "code",
   "execution_count": 2,
   "metadata": {},
   "outputs": [],
   "source": [
    "def get_spatial_subset(\n",
    "    full_cloud, xmin: int, xmax: int, ymin: int, ymax: int\n",
    ") -> laspy.lasdata.LasData:\n",
    "    \"\"\"\n",
    "    Create a subset of a LAS file based on a bounding box in coordinates of the cloud file\n",
    "\n",
    "    parameters:\n",
    "    full_cloud: a laspy cloud object you want to subset from\n",
    "\n",
    "    xmin: the values of the bounding box object\n",
    "    xmax\n",
    "    ymin\n",
    "    ymax\n",
    "\n",
    "    returns: laspy.lasdata.LasData object\n",
    "    \"\"\"\n",
    "    # create empty laspy collection to put the filtered points in that has the same format and file version as the original\n",
    "    new_file = laspy.create(\n",
    "        point_format=cloud.header.point_format, file_version=cloud.header.version\n",
    "    )\n",
    "    # create matrices of boolean values\n",
    "    a = cloud.x > xmin\n",
    "    b = cloud.x < xmax\n",
    "    c = cloud.y > ymin\n",
    "    d = cloud.y < ymax\n",
    "    # subset the points and put them into the new laspy file\n",
    "    new_file.points = full_cloud.points[a & b & c & d]\n",
    "    return new_file\n"
   ]
  },
  {
   "cell_type": "code",
   "execution_count": 3,
   "metadata": {},
   "outputs": [],
   "source": [
    "# load in the fully LAZ file\n",
    "cloud = laspy.read(r'./data/AHN4_Noordwijk.laz')\n"
   ]
  },
  {
   "cell_type": "code",
   "execution_count": 4,
   "metadata": {},
   "outputs": [
    {
     "name": "stdout",
     "output_type": "stream",
     "text": [
      "Bounding box is between 89350.0 and 89450.0 in the x direction and 472818.0 and 472918.0 in the y direction (referenced to the coordinates in the LAZ file)\n"
     ]
    }
   ],
   "source": [
    "# define the area of interest\n",
    "xcenter = 89400\n",
    "bbbox_size = 100\n",
    "ycenter = 472868\n",
    "xmin = xcenter - 0.5*bbbox_size\n",
    "xmax = xcenter + 0.5*bbbox_size\n",
    "ymin = ycenter - 0.5*bbbox_size\n",
    "ymax = ycenter + 0.5*bbbox_size\n",
    "print(f'Bounding box is between {xmin} and {xmax} in the x direction and {ymin} and {ymax} in the y direction (referenced to the coordinates in the LAZ file)')\n",
    "# create the subset\n",
    "subset = get_spatial_subset(cloud,xmin,xmax,ymin,ymax)"
   ]
  },
  {
   "cell_type": "code",
   "execution_count": 5,
   "metadata": {},
   "outputs": [],
   "source": [
    "# create a tree for all points in the subset\n",
    "dataset = np.vstack((subset.X,subset.Y,subset.Z)).transpose()\n",
    "tree = cKDTree(dataset)"
   ]
  },
  {
   "cell_type": "code",
   "execution_count": 6,
   "metadata": {},
   "outputs": [
    {
     "data": {
      "text/plain": [
       "['Deviation', 'Reflectance', 'Amplitude', 'normal_angle']"
      ]
     },
     "execution_count": 6,
     "metadata": {},
     "output_type": "execute_result"
    }
   ],
   "source": [
    "# setting up the extra dimensions to add back to the las file\n",
    "dimension = laspy.point.format.ExtraBytesParams('normal_angle','float64')\n",
    "subset.add_extra_dim(dimension)\n",
    "# check that it was added correctly\n",
    "list(subset.point_format.extra_dimension_names)"
   ]
  },
  {
   "cell_type": "code",
   "execution_count": 7,
   "metadata": {},
   "outputs": [],
   "source": [
    "# get an array for all the points\n",
    "all_points = subset.points.array"
   ]
  },
  {
   "cell_type": "code",
   "execution_count": 44,
   "metadata": {},
   "outputs": [],
   "source": [
    "# set up empty arrays\n",
    "normal_angle = np.zeros(len(all_points))\n",
    "normal_vectors = np.zeros((len(all_points), 3))\n",
    "\n",
    "for i, point in enumerate(all_points):\n",
    "    x = point[0]\n",
    "    y = point[1]\n",
    "    z = point[2]\n",
    "    # find the k nearest neighbors\n",
    "    neighbors_distance, neighbors_indices = tree.query((x, y, z), k=8)\n",
    "    # find the locations of those neighbors by their IDs\n",
    "    neighbors_points = tree.data[neighbors_indices]\n",
    "\n",
    "    # set up pca model\n",
    "    pca = PCA(n_components=3)\n",
    "    # fit the model to the points\n",
    "    pca.fit(neighbors_points)\n",
    "    # get the Z value for the normal\n",
    "    normal_vector = pca.components_.T[2]\n",
    "    # save the vector in an array\n",
    "    normal_vectors[i] = normal_vector\n",
    "    # find the angle with the z axis using the dot product\n",
    "    angle = np.rad2deg(np.arccos(normal_vector.dot([0, 0, 1])))\n",
    "    \n",
    "    # switch orientation\n",
    "    if angle > 90:\n",
    "        angle = angle-90\n",
    "    normal_angle[i] = angle\n",
    "# assign the calculated angle to the new dimension created above\n",
    "subset.normal_angle = normal_angle\n",
    "# save the file\n",
    "subset.write('.\\data\\subsetted.las')"
   ]
  },
  {
   "cell_type": "code",
   "execution_count": 39,
   "metadata": {},
   "outputs": [
    {
     "data": {
      "text/plain": [
       "(array([  317.,  3522., 16917., 39690., 57966., 57658., 40688., 37581.,\n",
       "        48255., 56542., 56345., 44869., 18521.,  9636.,  9064.,  6698.,\n",
       "         5821.,  5579.,  2945.,  1302.]),\n",
       " array([12288. , 14937.6, 17587.2, 20236.8, 22886.4, 25536. , 28185.6,\n",
       "        30835.2, 33484.8, 36134.4, 38784. , 41433.6, 44083.2, 46732.8,\n",
       "        49382.4, 52032. , 54681.6, 57331.2, 59980.8, 62630.4, 65280. ]),\n",
       " [<matplotlib.patches.Polygon at 0x187ddd52560>])"
      ]
     },
     "execution_count": 39,
     "metadata": {},
     "output_type": "execute_result"
    },
    {
     "data": {
      "image/png": "[encoded data removed]",
      "text/plain": [
       "<Figure size 432x288 with 1 Axes>"
      ]
     },
     "metadata": {
      "needs_background": "light"
     },
     "output_type": "display_data"
    }
   ],
   "source": [
    "plt.hist(subset.green, bins=20, color=\"green\", histtype=\"step\")\n",
    "plt.hist(subset.red, bins=20, color=\"red\", histtype=\"step\")\n",
    "plt.hist(subset.blue, bins=20, color=\"blue\", histtype=\"step\")\n"
   ]
  },
  {
   "cell_type": "code",
   "execution_count": 28,
   "metadata": {},
   "outputs": [
    {
     "name": "stdout",
     "output_type": "stream",
     "text": [
      "|X|469999|370001|419845.4310215496|  |\n",
      "|Y|437999|338001|387008.1474969034|  |\n",
      "|Z|38855|12340|21268.85938497757|  |\n",
      "|intensity|3402|64|972.2795605443956|  |\n",
      "|return_number|5|1|N/A|  |\n",
      "|number_of_returns|5|1|N/A|  |\n",
      "|synthetic|0|0|N/A|  |\n",
      "|key_point|0|0|N/A|  |\n",
      "|withheld|0|0|N/A|  |\n",
      "|overlap|0|0|N/A|  |\n",
      "|scanner_channel|0|0|N/A|  |\n",
      "|scan_direction_flag|1|0|N/A|  |\n",
      "|edge_of_flight_line|1|0|N/A|  |\n",
      "|classification|0|0|0.0|  |\n",
      "|user_data|7|6|6.450293893628971|  |\n",
      "|scan_angle|-3167|-4667|-3831.702651966856|  |\n",
      "|point_source_id|103|102|102.53481523938483|  |\n",
      "|gps_time|270040551.7498966|270039063.185381|270039859.1351014|  |\n",
      "|red|65280|13568|37609.126151147495|  |\n",
      "|green|65280|14848|36093.92951169035|  |\n",
      "|blue|65280|12288|33891.48290108402|  |\n",
      "|nir|0|0|0.0|  |\n",
      "|Deviation|65535.0|0.0|667.5175162910932|  |\n",
      "|Reflectance|19.290000915527344|-14.789999961853027|-5.168461232916284|  |\n",
      "|Amplitude|34.02000045776367|0.6399999856948853|9.722795606371532|  |\n",
      "|normal_angle|89.99985593635134|0.001076368705341224|42.61863884341944|  |\n"
     ]
    }
   ],
   "source": [
    "# create a markdown table with max and min, to copy in to the cell below\n",
    "for name in subset.point_format.dimension_names:\n",
    "    # need to handle different methods for views that return arrays and views that return subviews\n",
    "    try:\n",
    "        mean_ = subset[name].mean()\n",
    "    except:\n",
    "        mean_ = 'N/A'\n",
    "\n",
    "    print(f'|{name}|{subset[name].max()}|{subset[name].min()}|{mean_}|  |')"
   ]
  },
  {
   "cell_type": "markdown",
   "metadata": {},
   "source": [
    "a) Investigate the data set: describe each of its columns and assess the spread in values in each column. What is the meaning of each attribute?\n",
    "\n",
    "| Column name         | max                | min                 | average             | description |\n",
    "| ------------------- | ------------------ | ------------------- | ------------------- | ----------- |\n",
    "| X                   | 619999             | 220001              | 433971.25115027453  |             |\n",
    "| Y                   | 587999             | 188001              | 377504.3447322549   |             |\n",
    "| Z                   | 73547              | 368                 | 17275.988553159754  |             |\n",
    "| intensity           | 3402               | 48                  | 979.7225507051247   |             |\n",
    "| return_number       | 5                  | 1                   | N/A                 |             |\n",
    "| number_of_returns   | 7                  | 1                   | N/A                 |             |\n",
    "| synthetic           | 0                  | 0                   | N/A                 |             |\n",
    "| key_point           | 0                  | 0                   | N/A                 |             |\n",
    "| withheld            | 0                  | 0                   | N/A                 |             |\n",
    "| overlap             | 0                  | 0                   | N/A                 |             |\n",
    "| scanner_channel     | 0                  | 0                   | N/A                 |             |\n",
    "| scan_direction_flag | 1                  | 0                   | N/A                 |             |\n",
    "| edge_of_flight_line | 1                  | 0                   | N/A                 |             |\n",
    "| classification      | 0                  | 0                   | 0.0                 |             |\n",
    "| user_data           | 7                  | 6                   | 6.53313898365481    |             |\n",
    "| scan_angle          | -2000              | -5333               | -3592.2675619530182 |             |\n",
    "| point_source_id     | 103                | 102                 | 102.53444551319886  |             |\n",
    "| gps_time            | 270040555.7195011  | 270039061.42472917  | 270039859.3943919   |             |\n",
    "| red                 | 65280              | 7680                | 35525.6854264882    |             |\n",
    "| green               | 65280              | 9728                | 34950.39107970557   |             |\n",
    "| blue                | 65280              | 5888                | 32294.707113112527  |             |\n",
    "| nir                 | 0                  | 0                   | 0.0                 |             |\n",
    "| Deviation           | 65535.0            | 0.0                 | 967.0510091937552   |             |\n",
    "| Reflectance         | 19.290000915527344 | -15.170000076293945 | -5.083945499150126  |             |\n",
    "| Amplitude           | 34.02000045776367  | 0.47999998927116394 | 9.797225507288559   |             |\n",
    "| normal              | 0.0                | 0.0                 | 0.0                 |             |\n"
   ]
  },
  {
   "cell_type": "markdown",
   "metadata": {},
   "source": [
    "b) What are ways to create a subset? Select a suitable subset of the data and visualize it in 3D. Start small, and if computer and software permits, try a bit larger subset\n"
   ]
  },
  {
   "cell_type": "markdown",
   "metadata": {},
   "source": [
    "c) Identify at least four different object classes. Choose your classes such that together these cover a large majority of your points.\n",
    "\n",
    "1. building\n",
    "2. grass\n",
    "3. pavement\n",
    "4. tree\n",
    "5. beach"
   ]
  },
  {
   "cell_type": "markdown",
   "metadata": {},
   "source": [
    "d) Analyse which spatial scales and spectral properties are useful to distinguish your classes.\n",
    "\n",
    "The following properties are typical of each of the classes\n",
    "\n",
    "1. building\n",
    "   1. taller than the surroundings \n",
    "2. grass\n",
    "   1. high NDVI\n",
    "   2. \n",
    "3. pavement\n",
    "   1. \n",
    "4. tree\n",
    "   1. taller that it is wide or long\n",
    "5. beach"
   ]
  },
  {
   "cell_type": "markdown",
   "metadata": {},
   "source": [
    "e) Extract training data for each of your object classes. Divide your training data in two parts, one for training, and one for validation. What could be the influence of  imbalances in your training data? How could your division in training and validation data affect your results?\n"
   ]
  },
  {
   "cell_type": "markdown",
   "metadata": {},
   "source": [
    "f) Find a suitable implementation of the Random Forest algorithm. What are its parameters? What would be good settings for these parameters, given your classification task? Apply Random Forest on your data using only your observed features, to make sure your setup is correct.\n"
   ]
  },
  {
   "cell_type": "markdown",
   "metadata": {},
   "source": [
    "\n",
    "# Questions\n",
    "1. Describe the properties of the data (sub)set that you will classify: (i) How many points? (ii) What area does it cover? (iii) What observed features will you use? (iv) Visualize your final subset, including the useful observed features. (vi) Describe your at least four different object classes; For each point determine neighborhoods of k1, k2, ... points (using e.g. an efficient data structure), and use these k1, k2, ... points to estimate several feature values.\n",
    "\n",
    "\n",
    "2. Describe $\\gt$ 20 different geometric attributes, obtained using at least 2 different neighborhood sizes, to characterize your points. What are the dimensions of the data covariance matrix you use to compute the geometric features? Give one example on how you determine the PCA eigenvalues of one k-neighborhood. Indicate for each feature how it could help to distinguish your classes, given also the neighborhood sizes you consider.\n",
    "   \n",
    "\n",
    "3. Compute all geometric features for all points in your subset using Python. Visualize selected results, e.g. by combining features in a false color visualization and/or using histograms. Which features are best at discriminating your classes? Why?\n",
    "\n",
    "4. Describe and visualize your training data. Is your training data balanced? Make sure that a zone of your point cloud data is really ’unseen’, that is that no training data is taken from that zone, so you can inspect if Random Forest also works there.\n",
    "   \n",
    "\n",
    "5. Feed your training data to Random Forest using at least 10 of your best geometric and observed features. What settings did you use?\n",
    "   \n",
    "\n",
    "6. Classify your point cloud data and visualize and discuss your result. What went well? Give also examples where the classifier mixed up classes. What are possible explanations for these confusions? How are the classification results on the unseen zone?"
   ]
  },
  {
   "cell_type": "markdown",
   "metadata": {},
   "source": []
  }
 ],
 "metadata": {
  "interpreter": {
   "hash": "5e58f0493970c85668badbc5bf106a4a788c4b99d38880c90ea927a02d72e3dc"
  },
  "kernelspec": {
   "display_name": "Python 3.10.0 64-bit ('BPD4a': conda)",
   "language": "python",
   "name": "python3"
  },
  "language_info": {
   "codemirror_mode": {
    "name": "ipython",
    "version": 3
   },
   "file_extension": ".py",
   "mimetype": "text/x-python",
   "name": "python",
   "nbconvert_exporter": "python",
   "pygments_lexer": "ipython3",
   "version": "3.10.1"
  },
  "orig_nbformat": 4
 },
 "nbformat": 4,
 "nbformat_minor": 2
}
